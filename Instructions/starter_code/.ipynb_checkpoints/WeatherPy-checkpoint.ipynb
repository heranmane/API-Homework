{
 "cells": [
  {
   "cell_type": "markdown",
   "metadata": {},
   "source": [
    "# WeatherPy\n",
    "----\n",
    "\n",
    "#### Note\n",
    "* Instructions have been included for each segment. You do not have to follow them exactly, but they are included to help you think through the steps."
   ]
  },
  {
   "cell_type": "code",
   "execution_count": 1,
   "metadata": {
    "scrolled": true
   },
   "outputs": [],
   "source": [
    "# Dependencies and Setup\n",
    "import matplotlib.pyplot as plt\n",
    "import pandas as pd\n",
    "import numpy as np\n",
    "import pprint\n",
    "import requests\n",
    "import time\n",
    "from scipy.stats import linregress\n",
    "from scipy import stats\n",
    "# Import API key\n",
    "from api_keys import weather_api_key\n",
    "\n",
    "# Incorporated citipy to determine city based on latitude and longitude\n",
    "from citipy import citipy\n",
    "\n",
    "# Output File (CSV)\n",
    "output_data_file = \"output_data/cities.csv\"\n",
    "\n",
    "# Range of latitudes and longitudes\n",
    "lat_range = (-90, 90)\n",
    "lng_range = (-180, 180)"
   ]
  },
  {
   "cell_type": "markdown",
   "metadata": {},
   "source": [
    "## Generate Cities List"
   ]
  },
  {
   "cell_type": "code",
   "execution_count": 2,
   "metadata": {},
   "outputs": [
    {
     "data": {
      "text/plain": [
       "617"
      ]
     },
     "execution_count": 2,
     "metadata": {},
     "output_type": "execute_result"
    }
   ],
   "source": [
    "# List for holding lat_lngs and cities\n",
    "lat_lngs = []\n",
    "cities = []\n",
    "\n",
    "# Create a set of random lat and lng combinations\n",
    "lats = np.random.uniform(lat_range[0], lat_range[1], size=1500)\n",
    "lngs = np.random.uniform(lng_range[0], lng_range[1], size=1500)\n",
    "lat_lngs = zip(lats, lngs)\n",
    "\n",
    "# Identify nearest city for each lat, lng combination\n",
    "for lat_lng in lat_lngs:\n",
    "    city = citipy.nearest_city(lat_lng[0], lat_lng[1]).city_name\n",
    "    \n",
    "    # If the city is unique, then add it to a our cities list\n",
    "    if city not in cities:\n",
    "        cities.append(city)\n",
    "\n",
    "# Print the city count to confirm sufficient count\n",
    "len(cities)\n"
   ]
  },
  {
   "cell_type": "code",
   "execution_count": 3,
   "metadata": {},
   "outputs": [],
   "source": [
    "#cities"
   ]
  },
  {
   "cell_type": "markdown",
   "metadata": {},
   "source": [
    "### Perform API Calls\n",
    "* Perform a weather check on each city using a series of successive API calls.\n",
    "* Include a print log of each city as it'sbeing processed (with the city number and city name).\n"
   ]
  },
  {
   "cell_type": "code",
   "execution_count": 4,
   "metadata": {},
   "outputs": [],
   "source": [
    "url = \"http://api.openweathermap.org/data/2.5/weather?units=Imperial&APPID=\" + weather_api_key"
   ]
  },
  {
   "cell_type": "code",
   "execution_count": 5,
   "metadata": {},
   "outputs": [
    {
     "name": "stdout",
     "output_type": "stream",
     "text": [
      "Beginning Data Retrieval\n",
      "-----------------------------\n",
      "Processing Record 1 of Set 1 | sioux lookout\n",
      "Processing Record 2 of Set 1 | asfi\n",
      "Processing Record 3 of Set 1 | tateyama\n",
      "Processing Record 4 of Set 1 | vostok\n",
      "Processing Record 5 of Set 1 | rikitea\n",
      "Processing Record 6 of Set 1 | ancud\n",
      "Processing Record 7 of Set 1 | ribeira grande\n",
      "Processing Record 8 of Set 1 | west wendover\n",
      "Processing Record 9 of Set 1 | juneau\n",
      "Processing Record 10 of Set 1 | punta arenas\n",
      "Processing Record 11 of Set 1 | ponta do sol\n",
      "Processing Record 12 of Set 1 | pineville\n",
      "Processing Record 13 of Set 1 | vaini\n",
      "Processing Record 14 of Set 1 | port lincoln\n",
      "Processing Record 15 of Set 1 | santa cruz\n",
      "Processing Record 16 of Set 1 | nicolas bravo\n",
      "Processing Record 17 of Set 1 | san carlos de bariloche\n",
      "Processing Record 18 of Set 1 | shobara\n",
      "Processing Record 19 of Set 1 | nanakuli\n",
      "Processing Record 20 of Set 1 | georgetown\n",
      "Processing Record 21 of Set 1 | ushuaia\n",
      "Processing Record 22 of Set 1 | port alfred\n",
      "Processing Record 23 of Set 1 | ocampo\n",
      "Processing Record 24 of Set 1 | aklavik\n",
      "Processing Record 26 of Set 2 | hobart\n",
      "Processing Record 27 of Set 2 | qaanaaq\n",
      "Processing Record 28 of Set 2 | ambilobe\n",
      "Processing Record 29 of Set 2 | jamestown\n",
      "Processing Record 30 of Set 2 | krapivinskiy\n",
      "Processing Record 31 of Set 2 | carnarvon\n",
      "Processing Record 32 of Set 2 | taolanaro\n",
      "City not found. Skipping...\n",
      "Processing Record 33 of Set 2 | loandjili\n",
      "Processing Record 34 of Set 2 | tarudant\n",
      "City not found. Skipping...\n",
      "Processing Record 35 of Set 2 | imbituba\n",
      "Processing Record 36 of Set 2 | palora\n",
      "Processing Record 37 of Set 2 | sorland\n",
      "Processing Record 38 of Set 2 | amderma\n",
      "City not found. Skipping...\n",
      "Processing Record 39 of Set 2 | bredasdorp\n",
      "Processing Record 40 of Set 2 | mataura\n",
      "Processing Record 41 of Set 2 | albany\n",
      "Processing Record 42 of Set 2 | new norfolk\n",
      "Processing Record 43 of Set 2 | barentsburg\n",
      "City not found. Skipping...\n",
      "Processing Record 44 of Set 2 | caibarien\n",
      "Processing Record 45 of Set 2 | luanda\n",
      "Processing Record 46 of Set 2 | belushya guba\n",
      "City not found. Skipping...\n",
      "Processing Record 47 of Set 2 | nanortalik\n",
      "Processing Record 48 of Set 2 | sentyabrskiy\n",
      "City not found. Skipping...\n",
      "Processing Record 49 of Set 2 | cape town\n",
      "Processing Record 50 of Set 2 | santiago\n",
      "Processing Record 52 of Set 3 | provideniya\n",
      "Processing Record 53 of Set 3 | yellowknife\n",
      "Processing Record 54 of Set 3 | gorom-gorom\n",
      "Processing Record 55 of Set 3 | lingyuan\n",
      "Processing Record 56 of Set 3 | vorukh\n",
      "Processing Record 57 of Set 3 | norman wells\n",
      "Processing Record 58 of Set 3 | hithadhoo\n",
      "Processing Record 59 of Set 3 | severo-kurilsk\n",
      "Processing Record 60 of Set 3 | bilibino\n",
      "Processing Record 61 of Set 3 | tuatapere\n",
      "Processing Record 62 of Set 3 | puerto ayora\n",
      "Processing Record 63 of Set 3 | les cayes\n",
      "Processing Record 64 of Set 3 | torbay\n",
      "Processing Record 65 of Set 3 | zaozerne\n",
      "Processing Record 66 of Set 3 | bluff\n",
      "Processing Record 67 of Set 3 | kaitangata\n",
      "Processing Record 68 of Set 3 | san cristobal\n",
      "Processing Record 69 of Set 3 | slave lake\n",
      "Processing Record 70 of Set 3 | bengkulu\n",
      "Processing Record 71 of Set 3 | mahina\n",
      "Processing Record 72 of Set 3 | naze\n",
      "Processing Record 73 of Set 3 | rudiskes\n",
      "Processing Record 74 of Set 3 | changping\n",
      "Processing Record 75 of Set 3 | bacuit\n",
      "City not found. Skipping...\n",
      "Processing Record 76 of Set 3 | korla\n",
      "Processing Record 78 of Set 4 | rawson\n",
      "Processing Record 79 of Set 4 | sagua la grande\n",
      "Processing Record 80 of Set 4 | burica\n",
      "City not found. Skipping...\n",
      "Processing Record 81 of Set 4 | coquimbo\n",
      "Processing Record 82 of Set 4 | vaitupu\n",
      "City not found. Skipping...\n",
      "Processing Record 83 of Set 4 | lebyazhye\n",
      "Processing Record 84 of Set 4 | dikson\n",
      "Processing Record 85 of Set 4 | tabas\n",
      "Processing Record 86 of Set 4 | umm lajj\n",
      "Processing Record 87 of Set 4 | avera\n",
      "Processing Record 88 of Set 4 | busselton\n",
      "Processing Record 89 of Set 4 | bethel\n",
      "Processing Record 90 of Set 4 | narsaq\n",
      "Processing Record 91 of Set 4 | cidreira\n",
      "Processing Record 92 of Set 4 | parsabad\n",
      "Processing Record 93 of Set 4 | lompoc\n",
      "Processing Record 94 of Set 4 | constitucion\n",
      "Processing Record 95 of Set 4 | kapaa\n",
      "Processing Record 96 of Set 4 | humberto de campos\n",
      "Processing Record 97 of Set 4 | tsiroanomandidy\n",
      "Processing Record 98 of Set 4 | sumbawa\n",
      "City not found. Skipping...\n",
      "Processing Record 99 of Set 4 | tiksi\n",
      "Processing Record 100 of Set 4 | mabaruma\n",
      "Processing Record 101 of Set 4 | vila franca do campo\n",
      "Processing Record 102 of Set 4 | iqaluit\n",
      "Processing Record 104 of Set 5 | airai\n",
      "Processing Record 105 of Set 5 | japura\n",
      "Processing Record 106 of Set 5 | talnakh\n",
      "Processing Record 107 of Set 5 | senneterre\n",
      "Processing Record 108 of Set 5 | baghdad\n",
      "Processing Record 109 of Set 5 | kenai\n",
      "Processing Record 110 of Set 5 | alofi\n",
      "Processing Record 111 of Set 5 | daoukro\n",
      "Processing Record 112 of Set 5 | lumby\n",
      "Processing Record 113 of Set 5 | surt\n",
      "Processing Record 114 of Set 5 | cabo san lucas\n",
      "Processing Record 115 of Set 5 | vao\n",
      "Processing Record 116 of Set 5 | chuy\n",
      "Processing Record 117 of Set 5 | axim\n",
      "Processing Record 118 of Set 5 | buala\n",
      "Processing Record 119 of Set 5 | suhbaatar\n",
      "Processing Record 120 of Set 5 | aden\n",
      "Processing Record 121 of Set 5 | buin\n",
      "Processing Record 122 of Set 5 | aykhal\n",
      "Processing Record 123 of Set 5 | lamlash\n",
      "Processing Record 124 of Set 5 | faanui\n",
      "Processing Record 125 of Set 5 | kommunisticheskiy\n",
      "Processing Record 126 of Set 5 | sao joao da barra\n",
      "Processing Record 127 of Set 5 | tasiilaq\n",
      "Processing Record 128 of Set 5 | lebu\n",
      "Processing Record 130 of Set 6 | karasburg\n",
      "Processing Record 131 of Set 6 | illoqqortoormiut\n",
      "City not found. Skipping...\n",
      "Processing Record 132 of Set 6 | hami\n",
      "Processing Record 133 of Set 6 | mersing\n",
      "Processing Record 134 of Set 6 | utiroa\n",
      "City not found. Skipping...\n",
      "Processing Record 135 of Set 6 | beloha\n",
      "Processing Record 136 of Set 6 | thompson\n",
      "Processing Record 137 of Set 6 | gemena\n",
      "Processing Record 138 of Set 6 | hilo\n",
      "Processing Record 139 of Set 6 | vanavara\n",
      "Processing Record 140 of Set 6 | kashi\n",
      "Processing Record 141 of Set 6 | jiaojiang\n",
      "Processing Record 142 of Set 6 | praia da vitoria\n",
      "Processing Record 143 of Set 6 | fairbanks\n",
      "Processing Record 144 of Set 6 | butaritari\n",
      "Processing Record 145 of Set 6 | east london\n",
      "Processing Record 146 of Set 6 | longlac\n",
      "City not found. Skipping...\n",
      "Processing Record 147 of Set 6 | mata de sao joao\n",
      "Processing Record 148 of Set 6 | weifang\n",
      "Processing Record 149 of Set 6 | kodiak\n",
      "Processing Record 150 of Set 6 | diffa\n",
      "Processing Record 151 of Set 6 | samusu\n",
      "City not found. Skipping...\n",
      "Processing Record 152 of Set 6 | havre-saint-pierre\n",
      "Processing Record 153 of Set 6 | lagoa\n",
      "Processing Record 154 of Set 6 | wasilla\n",
      "Processing Record 156 of Set 7 | sandakan\n",
      "Processing Record 157 of Set 7 | riviera beach\n",
      "Processing Record 158 of Set 7 | waingapu\n",
      "Processing Record 159 of Set 7 | mahebourg\n",
      "Processing Record 160 of Set 7 | ahipara\n",
      "Processing Record 161 of Set 7 | champerico\n",
      "Processing Record 162 of Set 7 | portland\n",
      "Processing Record 163 of Set 7 | walvis bay\n",
      "Processing Record 164 of Set 7 | samarai\n",
      "Processing Record 165 of Set 7 | kruisfontein\n",
      "Processing Record 166 of Set 7 | pisco\n",
      "Processing Record 167 of Set 7 | saint george\n",
      "Processing Record 168 of Set 7 | salinopolis\n",
      "Processing Record 169 of Set 7 | soe\n",
      "Processing Record 170 of Set 7 | west point\n",
      "Processing Record 171 of Set 7 | wadi musa\n",
      "Processing Record 172 of Set 7 | palabuhanratu\n",
      "City not found. Skipping...\n",
      "Processing Record 173 of Set 7 | nalgonda\n",
      "Processing Record 174 of Set 7 | saint-pierre\n",
      "Processing Record 175 of Set 7 | castro\n",
      "Processing Record 176 of Set 7 | homer\n",
      "Processing Record 177 of Set 7 | kondinskoye\n",
      "Processing Record 178 of Set 7 | porto novo\n",
      "Processing Record 179 of Set 7 | saskylakh\n",
      "Processing Record 180 of Set 7 | te anau\n",
      "Processing Record 182 of Set 8 | mallaig\n",
      "Processing Record 183 of Set 8 | mogadishu\n",
      "Processing Record 184 of Set 8 | quelimane\n",
      "Processing Record 185 of Set 8 | hermanus\n",
      "Processing Record 186 of Set 8 | challapata\n",
      "Processing Record 187 of Set 8 | tsihombe\n",
      "City not found. Skipping...\n",
      "Processing Record 188 of Set 8 | trujillo\n",
      "Processing Record 189 of Set 8 | asyut\n",
      "Processing Record 190 of Set 8 | khatanga\n",
      "Processing Record 191 of Set 8 | shirochanka\n",
      "Processing Record 192 of Set 8 | marietta\n",
      "Processing Record 193 of Set 8 | sao sebastiao do paraiso\n",
      "Processing Record 194 of Set 8 | ocara\n"
     ]
    },
    {
     "name": "stdout",
     "output_type": "stream",
     "text": [
      "Processing Record 195 of Set 8 | tigre\n",
      "Processing Record 196 of Set 8 | radomsko\n",
      "Processing Record 197 of Set 8 | saldanha\n",
      "Processing Record 198 of Set 8 | alenquer\n",
      "Processing Record 199 of Set 8 | mocajuba\n",
      "Processing Record 200 of Set 8 | lolua\n",
      "City not found. Skipping...\n",
      "Processing Record 201 of Set 8 | badarpur\n",
      "Processing Record 202 of Set 8 | grand gaube\n",
      "Processing Record 203 of Set 8 | oksbol\n",
      "Processing Record 204 of Set 8 | kitimat\n",
      "Processing Record 205 of Set 8 | baza\n",
      "Processing Record 206 of Set 8 | santo tomas\n",
      "Processing Record 208 of Set 9 | brae\n",
      "Processing Record 209 of Set 9 | northam\n",
      "Processing Record 210 of Set 9 | whitianga\n",
      "Processing Record 211 of Set 9 | adrar\n",
      "Processing Record 212 of Set 9 | sitka\n",
      "Processing Record 213 of Set 9 | half moon bay\n",
      "Processing Record 214 of Set 9 | clyde river\n",
      "Processing Record 215 of Set 9 | cockburn town\n",
      "Processing Record 216 of Set 9 | karsun\n",
      "Processing Record 217 of Set 9 | avarua\n",
      "Processing Record 218 of Set 9 | dzhusaly\n",
      "City not found. Skipping...\n",
      "Processing Record 219 of Set 9 | shitanjing\n",
      "Processing Record 220 of Set 9 | myitkyina\n",
      "Processing Record 221 of Set 9 | henties bay\n",
      "Processing Record 222 of Set 9 | aswan\n",
      "Processing Record 223 of Set 9 | terney\n",
      "Processing Record 224 of Set 9 | poum\n",
      "Processing Record 225 of Set 9 | otane\n",
      "Processing Record 226 of Set 9 | ramhormoz\n",
      "Processing Record 227 of Set 9 | saint-philippe\n",
      "Processing Record 228 of Set 9 | taltal\n",
      "Processing Record 229 of Set 9 | barrow\n",
      "Processing Record 230 of Set 9 | abu jubayhah\n",
      "City not found. Skipping...\n",
      "Processing Record 231 of Set 9 | atuona\n",
      "Processing Record 232 of Set 9 | lorengau\n",
      "Processing Record 234 of Set 10 | siyabuswa\n",
      "Processing Record 235 of Set 10 | nizhneyansk\n",
      "City not found. Skipping...\n",
      "Processing Record 236 of Set 10 | sur\n",
      "Processing Record 237 of Set 10 | ust-uda\n",
      "Processing Record 238 of Set 10 | ginda\n",
      "Processing Record 239 of Set 10 | wanning\n",
      "Processing Record 240 of Set 10 | van\n",
      "Processing Record 241 of Set 10 | college\n",
      "Processing Record 242 of Set 10 | zaterechnyy\n",
      "Processing Record 243 of Set 10 | haibowan\n",
      "City not found. Skipping...\n",
      "Processing Record 244 of Set 10 | nouadhibou\n",
      "Processing Record 245 of Set 10 | laguna\n",
      "Processing Record 246 of Set 10 | uvat\n",
      "Processing Record 247 of Set 10 | azimur\n",
      "City not found. Skipping...\n",
      "Processing Record 248 of Set 10 | ramsar\n",
      "Processing Record 249 of Set 10 | ahumada\n",
      "City not found. Skipping...\n",
      "Processing Record 250 of Set 10 | sugod\n",
      "Processing Record 251 of Set 10 | rio gallegos\n",
      "Processing Record 252 of Set 10 | namibe\n",
      "Processing Record 253 of Set 10 | ziarat\n",
      "Processing Record 254 of Set 10 | nouakchott\n",
      "Processing Record 255 of Set 10 | rabo de peixe\n",
      "Processing Record 256 of Set 10 | darhan\n",
      "Processing Record 257 of Set 10 | high level\n",
      "Processing Record 258 of Set 10 | kulhudhuffushi\n",
      "Processing Record 260 of Set 11 | codrington\n",
      "Processing Record 261 of Set 11 | miranda\n",
      "Processing Record 262 of Set 11 | kutum\n",
      "Processing Record 263 of Set 11 | taoudenni\n",
      "Processing Record 264 of Set 11 | manyana\n",
      "Processing Record 265 of Set 11 | jertih\n",
      "Processing Record 266 of Set 11 | tuktoyaktuk\n",
      "Processing Record 267 of Set 11 | seoul\n",
      "Processing Record 268 of Set 11 | pocri\n",
      "Processing Record 269 of Set 11 | karkaralinsk\n",
      "City not found. Skipping...\n",
      "Processing Record 270 of Set 11 | along\n",
      "Processing Record 271 of Set 11 | sabzevar\n",
      "Processing Record 272 of Set 11 | attawapiskat\n",
      "City not found. Skipping...\n",
      "Processing Record 273 of Set 11 | nikolskoye\n",
      "Processing Record 274 of Set 11 | ruwi\n",
      "Processing Record 275 of Set 11 | ballina\n",
      "Processing Record 276 of Set 11 | arraial do cabo\n",
      "Processing Record 277 of Set 11 | pangnirtung\n",
      "Processing Record 278 of Set 11 | abu kamal\n",
      "Processing Record 279 of Set 11 | vilhena\n",
      "Processing Record 280 of Set 11 | mrirt\n",
      "City not found. Skipping...\n",
      "Processing Record 281 of Set 11 | najran\n",
      "Processing Record 282 of Set 11 | zemio\n",
      "Processing Record 283 of Set 11 | leningradskiy\n",
      "Processing Record 284 of Set 11 | burnie\n",
      "Processing Record 286 of Set 12 | bathsheba\n",
      "Processing Record 287 of Set 12 | oranjestad\n",
      "Processing Record 288 of Set 12 | ostrovnoy\n",
      "Processing Record 289 of Set 12 | eppelborn\n",
      "Processing Record 290 of Set 12 | okhotsk\n",
      "Processing Record 291 of Set 12 | egvekinot\n",
      "Processing Record 292 of Set 12 | bathurst\n",
      "Processing Record 293 of Set 12 | wahran\n",
      "City not found. Skipping...\n",
      "Processing Record 294 of Set 12 | mudgee\n",
      "Processing Record 295 of Set 12 | nome\n",
      "Processing Record 296 of Set 12 | nabire\n",
      "Processing Record 297 of Set 12 | sapa\n",
      "Processing Record 298 of Set 12 | ordzhonikidze\n",
      "Processing Record 299 of Set 12 | santa maria da vitoria\n",
      "Processing Record 300 of Set 12 | bambous virieux\n",
      "Processing Record 301 of Set 12 | presidencia roque saenz pena\n",
      "Processing Record 302 of Set 12 | newcastle\n",
      "Processing Record 303 of Set 12 | hobyo\n",
      "Processing Record 304 of Set 12 | tual\n",
      "Processing Record 305 of Set 12 | taloc\n",
      "Processing Record 306 of Set 12 | silistea\n",
      "Processing Record 307 of Set 12 | la libertad\n",
      "Processing Record 308 of Set 12 | flin flon\n",
      "Processing Record 309 of Set 12 | pokhara\n",
      "Processing Record 310 of Set 12 | tambovka\n",
      "Processing Record 312 of Set 13 | mys shmidta\n",
      "City not found. Skipping...\n",
      "Processing Record 313 of Set 13 | rudnichnyy\n",
      "Processing Record 314 of Set 13 | luderitz\n",
      "Processing Record 315 of Set 13 | guerrero negro\n",
      "Processing Record 316 of Set 13 | oktyabrskiy\n",
      "Processing Record 317 of Set 13 | grindavik\n",
      "Processing Record 318 of Set 13 | dwarka\n",
      "Processing Record 319 of Set 13 | kavieng\n",
      "Processing Record 320 of Set 13 | port elizabeth\n",
      "Processing Record 321 of Set 13 | karaul\n",
      "City not found. Skipping...\n",
      "Processing Record 322 of Set 13 | somerset\n",
      "Processing Record 323 of Set 13 | olafsvik\n",
      "Processing Record 324 of Set 13 | victoria\n",
      "Processing Record 325 of Set 13 | haapiti\n",
      "Processing Record 326 of Set 13 | muros\n",
      "Processing Record 327 of Set 13 | riyadh\n",
      "Processing Record 328 of Set 13 | malindi\n",
      "Processing Record 329 of Set 13 | lazaro cardenas\n",
      "Processing Record 330 of Set 13 | xiongzhou\n",
      "Processing Record 331 of Set 13 | tucurui\n",
      "Processing Record 332 of Set 13 | anloga\n",
      "Processing Record 333 of Set 13 | mar del plata\n",
      "Processing Record 334 of Set 13 | gidam\n",
      "Processing Record 335 of Set 13 | khonuu\n",
      "City not found. Skipping...\n",
      "Processing Record 336 of Set 13 | eureka\n",
      "Processing Record 338 of Set 14 | longyearbyen\n",
      "Processing Record 339 of Set 14 | lavrentiya\n",
      "Processing Record 340 of Set 14 | salalah\n",
      "Processing Record 341 of Set 14 | dongsheng\n",
      "Processing Record 342 of Set 14 | aitape\n",
      "Processing Record 343 of Set 14 | klaksvik\n",
      "Processing Record 344 of Set 14 | mogok\n",
      "Processing Record 345 of Set 14 | yumen\n",
      "Processing Record 346 of Set 14 | bytosh\n",
      "Processing Record 347 of Set 14 | saint-augustin\n",
      "Processing Record 348 of Set 14 | gat\n",
      "Processing Record 349 of Set 14 | ibra\n",
      "Processing Record 350 of Set 14 | karratha\n",
      "Processing Record 351 of Set 14 | manyoni\n",
      "Processing Record 352 of Set 14 | plettenberg bay\n",
      "Processing Record 353 of Set 14 | fairhope\n",
      "Processing Record 354 of Set 14 | chikoy\n",
      "City not found. Skipping...\n",
      "Processing Record 355 of Set 14 | port hardy\n",
      "Processing Record 356 of Set 14 | guarapari\n",
      "Processing Record 357 of Set 14 | namatanai\n",
      "Processing Record 358 of Set 14 | shaoguan\n",
      "Processing Record 359 of Set 14 | ilulissat\n",
      "Processing Record 360 of Set 14 | golubitskaya\n",
      "Processing Record 361 of Set 14 | alihe\n",
      "Processing Record 362 of Set 14 | fereydun kenar\n",
      "Processing Record 364 of Set 15 | espanola\n",
      "Processing Record 365 of Set 15 | mehamn\n",
      "Processing Record 366 of Set 15 | araouane\n",
      "Processing Record 367 of Set 15 | davila\n",
      "Processing Record 368 of Set 15 | yar-sale\n",
      "Processing Record 369 of Set 15 | kamaishi\n",
      "Processing Record 370 of Set 15 | mackenzie\n",
      "Processing Record 371 of Set 15 | necochea\n",
      "Processing Record 372 of Set 15 | pevek\n",
      "Processing Record 373 of Set 15 | warqla\n",
      "City not found. Skipping...\n",
      "Processing Record 374 of Set 15 | alekseyevsk\n",
      "Processing Record 375 of Set 15 | praia\n",
      "Processing Record 376 of Set 15 | puerto escondido\n",
      "Processing Record 377 of Set 15 | bagdarin\n",
      "Processing Record 378 of Set 15 | itoman\n",
      "Processing Record 379 of Set 15 | san patricio\n",
      "Processing Record 380 of Set 15 | saleaula\n",
      "City not found. Skipping...\n",
      "Processing Record 381 of Set 15 | souillac\n",
      "Processing Record 382 of Set 15 | ushtobe\n",
      "Processing Record 383 of Set 15 | south venice\n",
      "Processing Record 384 of Set 15 | makakilo city\n"
     ]
    },
    {
     "name": "stdout",
     "output_type": "stream",
     "text": [
      "Processing Record 385 of Set 15 | fortuna\n",
      "Processing Record 386 of Set 15 | kalabo\n",
      "Processing Record 387 of Set 15 | krasnyy oktyabr\n",
      "Processing Record 388 of Set 15 | barcelos\n",
      "Processing Record 390 of Set 16 | gizo\n",
      "Processing Record 391 of Set 16 | longhua\n",
      "Processing Record 392 of Set 16 | saint-georges\n",
      "Processing Record 393 of Set 16 | siavonga\n",
      "Processing Record 394 of Set 16 | kattivakkam\n",
      "Processing Record 395 of Set 16 | rudbar\n",
      "Processing Record 396 of Set 16 | cherskiy\n",
      "Processing Record 397 of Set 16 | tabiauea\n",
      "City not found. Skipping...\n",
      "Processing Record 398 of Set 16 | tura\n",
      "Processing Record 399 of Set 16 | elko\n",
      "Processing Record 400 of Set 16 | maniitsoq\n",
      "Processing Record 401 of Set 16 | saint anthony\n",
      "Processing Record 402 of Set 16 | naberera\n",
      "Processing Record 403 of Set 16 | ondjiva\n",
      "Processing Record 404 of Set 16 | deloraine\n",
      "Processing Record 405 of Set 16 | broome\n",
      "Processing Record 406 of Set 16 | shakhunya\n",
      "Processing Record 407 of Set 16 | elk city\n",
      "Processing Record 408 of Set 16 | khasan\n",
      "Processing Record 409 of Set 16 | mount gambier\n",
      "Processing Record 410 of Set 16 | esperance\n",
      "Processing Record 411 of Set 16 | sechura\n",
      "Processing Record 412 of Set 16 | seoni malwa\n",
      "Processing Record 413 of Set 16 | bud\n",
      "Processing Record 414 of Set 16 | farafangana\n",
      "Processing Record 416 of Set 17 | la antigua\n",
      "Processing Record 417 of Set 17 | haines junction\n",
      "Processing Record 418 of Set 17 | fukue\n",
      "Processing Record 419 of Set 17 | rembang\n",
      "Processing Record 420 of Set 17 | marcona\n",
      "City not found. Skipping...\n",
      "Processing Record 421 of Set 17 | kysyl-syr\n",
      "Processing Record 422 of Set 17 | sedhiou\n",
      "Processing Record 423 of Set 17 | chapais\n",
      "Processing Record 424 of Set 17 | udomlya\n",
      "Processing Record 425 of Set 17 | shahpura\n",
      "Processing Record 426 of Set 17 | teguise\n",
      "Processing Record 427 of Set 17 | richards bay\n",
      "Processing Record 428 of Set 17 | sucua\n",
      "Processing Record 429 of Set 17 | wanaka\n",
      "Processing Record 430 of Set 17 | betma\n",
      "Processing Record 431 of Set 17 | grand river south east\n",
      "City not found. Skipping...\n",
      "Processing Record 432 of Set 17 | borskoye\n",
      "Processing Record 433 of Set 17 | prince rupert\n",
      "Processing Record 434 of Set 17 | teahupoo\n",
      "Processing Record 435 of Set 17 | atasu\n",
      "Processing Record 436 of Set 17 | xinzhou\n",
      "Processing Record 437 of Set 17 | troitskoye\n",
      "Processing Record 438 of Set 17 | camacha\n",
      "Processing Record 439 of Set 17 | marinette\n",
      "Processing Record 440 of Set 17 | venado tuerto\n",
      "Processing Record 442 of Set 18 | ambon\n",
      "Processing Record 443 of Set 18 | penzance\n",
      "Processing Record 444 of Set 18 | mamlyutka\n",
      "Processing Record 445 of Set 18 | maldonado\n",
      "Processing Record 446 of Set 18 | ivaipora\n",
      "Processing Record 447 of Set 18 | la romana\n",
      "Processing Record 448 of Set 18 | nova olinda do norte\n",
      "Processing Record 449 of Set 18 | kirakira\n",
      "Processing Record 450 of Set 18 | stara moravica\n",
      "Processing Record 451 of Set 18 | kaeo\n",
      "Processing Record 452 of Set 18 | gornyy\n",
      "Processing Record 453 of Set 18 | yarada\n",
      "Processing Record 454 of Set 18 | upernavik\n",
      "Processing Record 455 of Set 18 | mount isa\n",
      "Processing Record 456 of Set 18 | pyapon\n",
      "Processing Record 457 of Set 18 | bara\n",
      "Processing Record 458 of Set 18 | montceau-les-mines\n",
      "Processing Record 459 of Set 18 | santa marta\n",
      "Processing Record 460 of Set 18 | tezu\n",
      "Processing Record 461 of Set 18 | itarema\n",
      "Processing Record 462 of Set 18 | tecolutla\n",
      "Processing Record 463 of Set 18 | rundu\n",
      "Processing Record 464 of Set 18 | giaveno\n",
      "Processing Record 465 of Set 18 | klyuchi\n",
      "Processing Record 466 of Set 18 | iberia\n",
      "Processing Record 468 of Set 19 | watsa\n",
      "Processing Record 469 of Set 19 | dali\n",
      "Processing Record 470 of Set 19 | tynda\n",
      "Processing Record 471 of Set 19 | bantry\n",
      "Processing Record 472 of Set 19 | andenes\n",
      "Processing Record 473 of Set 19 | verkhniy mamon\n",
      "Processing Record 474 of Set 19 | robertsport\n",
      "Processing Record 475 of Set 19 | hasaki\n",
      "Processing Record 476 of Set 19 | allende\n",
      "Processing Record 477 of Set 19 | hambantota\n",
      "Processing Record 478 of Set 19 | geraldton\n",
      "Processing Record 479 of Set 19 | lucea\n",
      "Processing Record 480 of Set 19 | abaete\n",
      "Processing Record 481 of Set 19 | rocha\n",
      "Processing Record 482 of Set 19 | shelburne\n",
      "Processing Record 483 of Set 19 | keetmanshoop\n",
      "Processing Record 484 of Set 19 | belgrade\n",
      "Processing Record 485 of Set 19 | simao\n",
      "Processing Record 486 of Set 19 | roald\n",
      "Processing Record 487 of Set 19 | manokwari\n",
      "Processing Record 488 of Set 19 | sawakin\n",
      "Processing Record 489 of Set 19 | inuvik\n",
      "Processing Record 490 of Set 19 | petauke\n",
      "Processing Record 491 of Set 19 | sao filipe\n",
      "Processing Record 492 of Set 19 | road town\n",
      "Processing Record 494 of Set 20 | mosquera\n",
      "Processing Record 495 of Set 20 | toliary\n",
      "City not found. Skipping...\n",
      "Processing Record 496 of Set 20 | mendi\n",
      "Processing Record 497 of Set 20 | wulanhaote\n",
      "City not found. Skipping...\n",
      "Processing Record 498 of Set 20 | yulara\n",
      "Processing Record 499 of Set 20 | paamiut\n",
      "Processing Record 500 of Set 20 | damavand\n",
      "Processing Record 501 of Set 20 | north vanlaiphai\n",
      "Processing Record 502 of Set 20 | erenhot\n",
      "Processing Record 503 of Set 20 | sabha\n",
      "Processing Record 504 of Set 20 | maceio\n",
      "Processing Record 505 of Set 20 | corn island\n",
      "Processing Record 506 of Set 20 | jining\n",
      "Processing Record 507 of Set 20 | mattru\n",
      "Processing Record 508 of Set 20 | pingliang\n",
      "Processing Record 509 of Set 20 | killybegs\n",
      "Processing Record 510 of Set 20 | cabedelo\n",
      "Processing Record 511 of Set 20 | rock springs\n",
      "Processing Record 512 of Set 20 | ponta delgada\n",
      "Processing Record 513 of Set 20 | lodja\n",
      "Processing Record 514 of Set 20 | mahon\n",
      "Processing Record 515 of Set 20 | san francisco\n",
      "Processing Record 516 of Set 20 | peniche\n",
      "Processing Record 517 of Set 20 | khlung\n",
      "Processing Record 518 of Set 20 | kartaly\n",
      "Processing Record 520 of Set 21 | chokurdakh\n",
      "Processing Record 521 of Set 21 | nsanje\n",
      "Processing Record 522 of Set 21 | flinders\n",
      "Processing Record 523 of Set 21 | byron bay\n",
      "Processing Record 524 of Set 21 | snezhnogorsk\n",
      "Processing Record 525 of Set 21 | port hedland\n",
      "Processing Record 526 of Set 21 | pietersburg\n",
      "Processing Record 527 of Set 21 | victoria point\n",
      "Processing Record 528 of Set 21 | matara\n",
      "Processing Record 529 of Set 21 | coihaique\n",
      "Processing Record 530 of Set 21 | kloulklubed\n",
      "Processing Record 531 of Set 21 | margate\n",
      "Processing Record 532 of Set 21 | wattegama\n",
      "Processing Record 533 of Set 21 | somerset east\n",
      "Processing Record 534 of Set 21 | mao\n",
      "Processing Record 535 of Set 21 | bratsk\n",
      "Processing Record 536 of Set 21 | pecos\n",
      "Processing Record 537 of Set 21 | qaqortoq\n",
      "Processing Record 538 of Set 21 | sola\n",
      "Processing Record 539 of Set 21 | kikwit\n",
      "Processing Record 540 of Set 21 | trinidad\n",
      "Processing Record 541 of Set 21 | maha sarakham\n",
      "Processing Record 542 of Set 21 | tautira\n",
      "Processing Record 543 of Set 21 | evensk\n",
      "Processing Record 544 of Set 21 | batemans bay\n",
      "Processing Record 546 of Set 22 | nguiu\n",
      "City not found. Skipping...\n",
      "Processing Record 547 of Set 22 | kahului\n",
      "Processing Record 548 of Set 22 | baft\n",
      "Processing Record 549 of Set 22 | cuacnopalan\n",
      "Processing Record 550 of Set 22 | bahia honda\n",
      "Processing Record 551 of Set 22 | katsuura\n",
      "Processing Record 552 of Set 22 | nicoya\n",
      "Processing Record 553 of Set 22 | sardulgarh\n",
      "Processing Record 554 of Set 22 | hit\n",
      "Processing Record 555 of Set 22 | qeshm\n",
      "Processing Record 556 of Set 22 | wladyslawowo\n",
      "Processing Record 557 of Set 22 | nyzhnya duvanka\n",
      "Processing Record 558 of Set 22 | bilma\n",
      "Processing Record 559 of Set 22 | kalia\n",
      "Processing Record 560 of Set 22 | caravelas\n",
      "Processing Record 561 of Set 22 | hualmay\n",
      "Processing Record 562 of Set 22 | turukhansk\n",
      "Processing Record 563 of Set 22 | halalo\n",
      "City not found. Skipping...\n",
      "Processing Record 564 of Set 22 | ereymentau\n",
      "Processing Record 565 of Set 22 | carutapera\n",
      "Processing Record 566 of Set 22 | bubaque\n",
      "Processing Record 567 of Set 22 | arman\n",
      "Processing Record 568 of Set 22 | papara\n",
      "Processing Record 569 of Set 22 | teya\n",
      "Processing Record 570 of Set 22 | vestmanna\n",
      "Processing Record 572 of Set 23 | bulgan\n",
      "Processing Record 573 of Set 23 | badiraguato\n",
      "Processing Record 574 of Set 23 | deogarh\n",
      "Processing Record 575 of Set 23 | payson\n",
      "Processing Record 576 of Set 23 | bargal\n",
      "City not found. Skipping...\n",
      "Processing Record 577 of Set 23 | hofn\n",
      "Processing Record 578 of Set 23 | ust-maya\n"
     ]
    },
    {
     "name": "stdout",
     "output_type": "stream",
     "text": [
      "Processing Record 579 of Set 23 | clinton\n",
      "Processing Record 580 of Set 23 | at-bashi\n",
      "Processing Record 581 of Set 23 | grants\n",
      "Processing Record 582 of Set 23 | orange\n",
      "Processing Record 583 of Set 23 | baleshwar\n",
      "Processing Record 584 of Set 23 | sarai sidhu\n",
      "Processing Record 585 of Set 23 | sabirabad\n",
      "Processing Record 586 of Set 23 | vaitape\n",
      "Processing Record 587 of Set 23 | port blair\n",
      "Processing Record 588 of Set 23 | lubyany\n",
      "Processing Record 589 of Set 23 | nador\n",
      "Processing Record 590 of Set 23 | fare\n",
      "Processing Record 591 of Set 23 | vila do maio\n",
      "Processing Record 592 of Set 23 | ahuimanu\n",
      "Processing Record 593 of Set 23 | muyezerskiy\n",
      "Processing Record 594 of Set 23 | muli\n",
      "Processing Record 595 of Set 23 | townsville\n",
      "Processing Record 596 of Set 23 | shaoyang\n",
      "Processing Record 598 of Set 24 | totness\n",
      "Processing Record 599 of Set 24 | san quintin\n",
      "Processing Record 600 of Set 24 | naftah\n",
      "City not found. Skipping...\n",
      "Processing Record 601 of Set 24 | tutoia\n",
      "Processing Record 602 of Set 24 | dunedin\n",
      "Processing Record 603 of Set 24 | narasannapeta\n",
      "Processing Record 604 of Set 24 | launceston\n",
      "Processing Record 605 of Set 24 | labuhan\n",
      "Processing Record 606 of Set 24 | kazalinsk\n",
      "City not found. Skipping...\n",
      "Processing Record 607 of Set 24 | lethem\n",
      "Processing Record 608 of Set 24 | iralaya\n",
      "Processing Record 609 of Set 24 | srednekolymsk\n",
      "Processing Record 610 of Set 24 | saint-louis\n",
      "Processing Record 611 of Set 24 | skibbereen\n",
      "Processing Record 612 of Set 24 | izacic\n",
      "Processing Record 613 of Set 24 | bay roberts\n",
      "Processing Record 614 of Set 24 | umm jarr\n",
      "City not found. Skipping...\n",
      "Processing Record 615 of Set 24 | talaya\n",
      "Processing Record 616 of Set 24 | markova\n",
      "Processing Record 617 of Set 24 | huilong\n",
      "Processing Record 618 of Set 24 | banda aceh\n",
      "Processing Record 619 of Set 24 | port keats\n",
      "Processing Record 620 of Set 24 | richard toll\n",
      "City not found. Skipping...\n",
      "Processing Record 621 of Set 24 | belaya gora\n",
      "Processing Record 622 of Set 24 | asandh\n",
      "Processing Record 624 of Set 25 | nantucket\n",
      "Processing Record 625 of Set 25 | bonavista\n",
      "Processing Record 626 of Set 25 | dashitou\n",
      "Processing Record 627 of Set 25 | warrington\n",
      "Processing Record 628 of Set 25 | camana\n",
      "Processing Record 629 of Set 25 | ust-tsilma\n",
      "Processing Record 630 of Set 25 | nelson bay\n",
      "Processing Record 631 of Set 25 | sumbe\n",
      "Processing Record 632 of Set 25 | mongo\n",
      "Processing Record 633 of Set 25 | jasper\n",
      "Processing Record 634 of Set 25 | biu\n",
      "Processing Record 635 of Set 25 | canico\n",
      "Processing Record 636 of Set 25 | yenagoa\n",
      "Processing Record 637 of Set 25 | cocal\n",
      "Processing Record 638 of Set 25 | chernyshevskiy\n",
      "Processing Record 639 of Set 25 | okha\n",
      "Processing Record 640 of Set 25 | vila\n",
      "Processing Record 641 of Set 25 | taunggyi\n",
      "-----------------------------\n",
      "Data Retrieval Complete\n",
      "-----------------------------\n"
     ]
    }
   ],
   "source": [
    "# Starting URL for Weather Map API Call.\n",
    "\n",
    "\n",
    "weather_data=[]\n",
    "record_count = 1\n",
    "set_count = 1\n",
    "\n",
    "print(\"Beginning Data Retrieval\")     \n",
    "print(\"-----------------------------\")\n",
    "\n",
    "# Loop through all the cities in our list\n",
    "for index, city in enumerate(cities,start=1):\n",
    "#     print(index,city)\n",
    "    \n",
    "    # group cities in lists of 25\n",
    "    if (index % 25== 0 and index >=25):\n",
    "        record_count+=1\n",
    "        set_count+=1\n",
    "        \n",
    "        \n",
    "    #City URL  \n",
    "    city_url=url+\"&q=\"+city.replace(\" \",\"+\")\n",
    "    \n",
    "    print(f'Processing Record {record_count} of Set {set_count} | {city}')\n",
    "    \n",
    "    record_count+=1\n",
    "    \n",
    "    try:\n",
    "        #needed weather info\n",
    "        weather_info=requests.get(city_url).json()\n",
    "        \n",
    "        lat = weather_info[\"coord\"][\"lat\"]\n",
    "        lng=weather_info[\"coord\"][\"lon\"]\n",
    "        max_temps = weather_info['main'][\"temp_max\"]\n",
    "        humidity =weather_info['main'][\"humidity\"]\n",
    "        cloudiness = weather_info['clouds'][\"all\"]\n",
    "        wind_speed = weather_info['wind'][\"speed\"]\n",
    "        country=weather_info[\"sys\"]['country']\n",
    "        date=weather_info[\"dt\"]\n",
    "        \n",
    "        #add info to weather_data lists\n",
    "        \n",
    "        weather_data.append({\"City\":city,\n",
    "                             \"Latitude\":lat,\n",
    "                             \"Longitude\":lng,\n",
    "                             \"Maximum Temp\":max_temps,\n",
    "                             \"Humidity\":humidity,\n",
    "                             \"Clouds\":cloudiness,\n",
    "                             \"Wind Speed\":wind_speed,\n",
    "                             \"Country\":country,\n",
    "                             \"Date\":date})\n",
    "                             \n",
    "#         try:\n",
    "        #for rain\n",
    "#         except KeyError:\n",
    "\n",
    "#         try:\n",
    "        #for snow\n",
    "#         except KeyError:\n",
    "        #append final data info here     \n",
    "    except:\n",
    "        print(f'City not found. Skipping...')\n",
    "        pass\n",
    "    \n",
    "print(\"-----------------------------\")\n",
    "print(\"Data Retrieval Complete\")     \n",
    "print(\"-----------------------------\")\n"
   ]
  },
  {
   "cell_type": "code",
   "execution_count": 6,
   "metadata": {},
   "outputs": [
    {
     "data": {
      "text/plain": [
       "{'coord': {'lon': 97.03, 'lat': 20.78},\n",
       " 'weather': [{'id': 804,\n",
       "   'main': 'Clouds',\n",
       "   'description': 'overcast clouds',\n",
       "   'icon': '04n'}],\n",
       " 'base': 'stations',\n",
       " 'main': {'temp': 65.08,\n",
       "  'feels_like': 68.22,\n",
       "  'temp_min': 65.08,\n",
       "  'temp_max': 65.08,\n",
       "  'pressure': 1008,\n",
       "  'humidity': 100,\n",
       "  'sea_level': 1008,\n",
       "  'grnd_level': 856},\n",
       " 'visibility': 10000,\n",
       " 'wind': {'speed': 3.89, 'deg': 202},\n",
       " 'clouds': {'all': 100},\n",
       " 'dt': 1597077193,\n",
       " 'sys': {'country': 'MM', 'sunrise': 1597014564, 'sunset': 1597061110},\n",
       " 'timezone': 23400,\n",
       " 'id': 1293960,\n",
       " 'name': 'Taunggyi',\n",
       " 'cod': 200}"
      ]
     },
     "execution_count": 6,
     "metadata": {},
     "output_type": "execute_result"
    }
   ],
   "source": [
    "weather_info"
   ]
  },
  {
   "cell_type": "markdown",
   "metadata": {},
   "source": [
    "### Convert Raw Data to DataFrame\n",
    "* Export the city data into a .csv.\n",
    "* Display the DataFrame"
   ]
  },
  {
   "cell_type": "code",
   "execution_count": 8,
   "metadata": {},
   "outputs": [
    {
     "data": {
      "text/html": [
       "<div>\n",
       "<style scoped>\n",
       "    .dataframe tbody tr th:only-of-type {\n",
       "        vertical-align: middle;\n",
       "    }\n",
       "\n",
       "    .dataframe tbody tr th {\n",
       "        vertical-align: top;\n",
       "    }\n",
       "\n",
       "    .dataframe thead th {\n",
       "        text-align: right;\n",
       "    }\n",
       "</style>\n",
       "<table border=\"1\" class=\"dataframe\">\n",
       "  <thead>\n",
       "    <tr style=\"text-align: right;\">\n",
       "      <th></th>\n",
       "      <th>City</th>\n",
       "      <th>Latitude</th>\n",
       "      <th>Longitude</th>\n",
       "      <th>Maximum Temp</th>\n",
       "      <th>Humidity</th>\n",
       "      <th>Clouds</th>\n",
       "      <th>Wind Speed</th>\n",
       "      <th>Country</th>\n",
       "      <th>Date</th>\n",
       "    </tr>\n",
       "  </thead>\n",
       "  <tbody>\n",
       "    <tr>\n",
       "      <th>0</th>\n",
       "      <td>sioux lookout</td>\n",
       "      <td>50.10</td>\n",
       "      <td>-91.92</td>\n",
       "      <td>69.80</td>\n",
       "      <td>49</td>\n",
       "      <td>40</td>\n",
       "      <td>10.29</td>\n",
       "      <td>CA</td>\n",
       "      <td>1597077060</td>\n",
       "    </tr>\n",
       "    <tr>\n",
       "      <th>1</th>\n",
       "      <td>asfi</td>\n",
       "      <td>32.30</td>\n",
       "      <td>-9.24</td>\n",
       "      <td>73.63</td>\n",
       "      <td>74</td>\n",
       "      <td>48</td>\n",
       "      <td>20.54</td>\n",
       "      <td>MA</td>\n",
       "      <td>1597077158</td>\n",
       "    </tr>\n",
       "    <tr>\n",
       "      <th>2</th>\n",
       "      <td>tateyama</td>\n",
       "      <td>34.98</td>\n",
       "      <td>139.87</td>\n",
       "      <td>84.00</td>\n",
       "      <td>89</td>\n",
       "      <td>5</td>\n",
       "      <td>4.00</td>\n",
       "      <td>JP</td>\n",
       "      <td>1597077158</td>\n",
       "    </tr>\n",
       "    <tr>\n",
       "      <th>3</th>\n",
       "      <td>vostok</td>\n",
       "      <td>46.49</td>\n",
       "      <td>135.88</td>\n",
       "      <td>60.40</td>\n",
       "      <td>100</td>\n",
       "      <td>83</td>\n",
       "      <td>3.69</td>\n",
       "      <td>RU</td>\n",
       "      <td>1597077158</td>\n",
       "    </tr>\n",
       "    <tr>\n",
       "      <th>4</th>\n",
       "      <td>rikitea</td>\n",
       "      <td>-23.12</td>\n",
       "      <td>-134.97</td>\n",
       "      <td>69.84</td>\n",
       "      <td>74</td>\n",
       "      <td>47</td>\n",
       "      <td>19.33</td>\n",
       "      <td>PF</td>\n",
       "      <td>1597077051</td>\n",
       "    </tr>\n",
       "    <tr>\n",
       "      <th>...</th>\n",
       "      <td>...</td>\n",
       "      <td>...</td>\n",
       "      <td>...</td>\n",
       "      <td>...</td>\n",
       "      <td>...</td>\n",
       "      <td>...</td>\n",
       "      <td>...</td>\n",
       "      <td>...</td>\n",
       "      <td>...</td>\n",
       "    </tr>\n",
       "    <tr>\n",
       "      <th>567</th>\n",
       "      <td>cocal</td>\n",
       "      <td>-28.62</td>\n",
       "      <td>-49.35</td>\n",
       "      <td>84.78</td>\n",
       "      <td>33</td>\n",
       "      <td>0</td>\n",
       "      <td>1.68</td>\n",
       "      <td>BR</td>\n",
       "      <td>1597077192</td>\n",
       "    </tr>\n",
       "    <tr>\n",
       "      <th>568</th>\n",
       "      <td>chernyshevskiy</td>\n",
       "      <td>63.01</td>\n",
       "      <td>112.47</td>\n",
       "      <td>55.42</td>\n",
       "      <td>66</td>\n",
       "      <td>22</td>\n",
       "      <td>7.07</td>\n",
       "      <td>RU</td>\n",
       "      <td>1597077192</td>\n",
       "    </tr>\n",
       "    <tr>\n",
       "      <th>569</th>\n",
       "      <td>okha</td>\n",
       "      <td>53.57</td>\n",
       "      <td>142.95</td>\n",
       "      <td>55.69</td>\n",
       "      <td>95</td>\n",
       "      <td>100</td>\n",
       "      <td>18.21</td>\n",
       "      <td>RU</td>\n",
       "      <td>1597077193</td>\n",
       "    </tr>\n",
       "    <tr>\n",
       "      <th>570</th>\n",
       "      <td>vila</td>\n",
       "      <td>42.03</td>\n",
       "      <td>-8.16</td>\n",
       "      <td>84.00</td>\n",
       "      <td>54</td>\n",
       "      <td>100</td>\n",
       "      <td>5.99</td>\n",
       "      <td>PT</td>\n",
       "      <td>1597077193</td>\n",
       "    </tr>\n",
       "    <tr>\n",
       "      <th>571</th>\n",
       "      <td>taunggyi</td>\n",
       "      <td>20.78</td>\n",
       "      <td>97.03</td>\n",
       "      <td>65.08</td>\n",
       "      <td>100</td>\n",
       "      <td>100</td>\n",
       "      <td>3.89</td>\n",
       "      <td>MM</td>\n",
       "      <td>1597077193</td>\n",
       "    </tr>\n",
       "  </tbody>\n",
       "</table>\n",
       "<p>572 rows × 9 columns</p>\n",
       "</div>"
      ],
      "text/plain": [
       "               City  Latitude  Longitude  Maximum Temp  Humidity  Clouds  \\\n",
       "0     sioux lookout     50.10     -91.92         69.80        49      40   \n",
       "1              asfi     32.30      -9.24         73.63        74      48   \n",
       "2          tateyama     34.98     139.87         84.00        89       5   \n",
       "3            vostok     46.49     135.88         60.40       100      83   \n",
       "4           rikitea    -23.12    -134.97         69.84        74      47   \n",
       "..              ...       ...        ...           ...       ...     ...   \n",
       "567           cocal    -28.62     -49.35         84.78        33       0   \n",
       "568  chernyshevskiy     63.01     112.47         55.42        66      22   \n",
       "569            okha     53.57     142.95         55.69        95     100   \n",
       "570            vila     42.03      -8.16         84.00        54     100   \n",
       "571        taunggyi     20.78      97.03         65.08       100     100   \n",
       "\n",
       "     Wind Speed Country        Date  \n",
       "0         10.29      CA  1597077060  \n",
       "1         20.54      MA  1597077158  \n",
       "2          4.00      JP  1597077158  \n",
       "3          3.69      RU  1597077158  \n",
       "4         19.33      PF  1597077051  \n",
       "..          ...     ...         ...  \n",
       "567        1.68      BR  1597077192  \n",
       "568        7.07      RU  1597077192  \n",
       "569       18.21      RU  1597077193  \n",
       "570        5.99      PT  1597077193  \n",
       "571        3.89      MM  1597077193  \n",
       "\n",
       "[572 rows x 9 columns]"
      ]
     },
     "execution_count": 8,
     "metadata": {},
     "output_type": "execute_result"
    }
   ],
   "source": [
    "weather_df=pd.DataFrame(weather_data)\n",
    "\n",
    "weather_df"
   ]
  },
  {
   "cell_type": "code",
   "execution_count": 9,
   "metadata": {},
   "outputs": [],
   "source": [
    "#save as csv\n",
    "weather_df.to_csv(\"../output_data/city_weather_data.csv\", encoding=\"utf-8\", index=False)"
   ]
  },
  {
   "cell_type": "markdown",
   "metadata": {},
   "source": [
    "## Inspect the data and remove the cities where the humidity > 100%.\n",
    "----\n",
    "Skip this step if there are no cities that have humidity > 100%. "
   ]
  },
  {
   "cell_type": "code",
   "execution_count": 10,
   "metadata": {},
   "outputs": [
    {
     "name": "stdout",
     "output_type": "stream",
     "text": [
      "No cities found with humidity above 100\n"
     ]
    }
   ],
   "source": [
    "# weather_df.drop(weather_df.index[weather_df[\"Humidity\"]>100], inplace = True)\n",
    "# weather_df\n",
    "if city in weather_df['City']:\n",
    "    weather_df[\"Humidity\"]>100\n",
    "    print({City})\n",
    "else:\n",
    "    print(\"No cities found with humidity above 100\")\n"
   ]
  },
  {
   "cell_type": "code",
   "execution_count": 11,
   "metadata": {},
   "outputs": [],
   "source": [
    "#  Get the indices of cities that have humidity over 100%.\n"
   ]
  },
  {
   "cell_type": "code",
   "execution_count": 12,
   "metadata": {},
   "outputs": [],
   "source": [
    "# Make a new DataFrame equal to the city data to drop all humidity outliers by index.\n",
    "# Passing \"inplace=False\" will make a copy of the city_data DataFrame, which we call \"clean_city_data\".\n"
   ]
  },
  {
   "cell_type": "code",
   "execution_count": 13,
   "metadata": {},
   "outputs": [],
   "source": [
    "# Extract relevant fields from the data frame\n",
    "\n",
    "\n",
    "# Export the City_Data into a csv\n"
   ]
  },
  {
   "cell_type": "markdown",
   "metadata": {},
   "source": [
    "## Plotting the Data\n",
    "* Use proper labeling of the plots using plot titles (including date of analysis) and axes labels.\n",
    "* Save the plotted figures as .pngs."
   ]
  },
  {
   "cell_type": "markdown",
   "metadata": {},
   "source": [
    "## Latitude vs. Temperature Plot"
   ]
  },
  {
   "cell_type": "code",
   "execution_count": 14,
   "metadata": {
    "scrolled": true
   },
   "outputs": [
    {
     "data": {
      "image/png": "[encoded data removed]",
      "text/plain": [
       "<Figure size 432x288 with 1 Axes>"
      ]
     },
     "metadata": {
      "needs_background": "light"
     },
     "output_type": "display_data"
    },
    {
     "data": {
      "text/plain": [
       "<Figure size 432x288 with 0 Axes>"
      ]
     },
     "metadata": {},
     "output_type": "display_data"
    }
   ],
   "source": [
    "plt.scatter(weather_df[\"Latitude\"],weather_df[\"Maximum Temp\"],marker=\"o\",)\n",
    "plt.ylabel(\"Max Temperature\")\n",
    "plt.xlabel(\"Latitude\")\n",
    "plt.title(\"City Latitude vs Max Temperature 8/7/2020\")\n",
    "plt.grid(True)\n",
    "plt.show()\n",
    "plt.savefig('../output_data/lat_temp_plot.png')\n",
    "#this plot is analyzing the correlation between latitude and temperature. The plot shows that the farther away from the equator,the more temperature drops "
   ]
  },
  {
   "cell_type": "markdown",
   "metadata": {},
   "source": [
    "## Latitude vs. Humidity Plot"
   ]
  },
  {
   "cell_type": "code",
   "execution_count": 15,
   "metadata": {},
   "outputs": [
    {
     "data": {
      "image/png": "[encoded data removed]",
      "text/plain": [
       "<Figure size 432x288 with 1 Axes>"
      ]
     },
     "metadata": {
      "needs_background": "light"
     },
     "output_type": "display_data"
    },
    {
     "data": {
      "text/plain": [
       "<Figure size 432x288 with 0 Axes>"
      ]
     },
     "metadata": {},
     "output_type": "display_data"
    }
   ],
   "source": [
    "plt.scatter(weather_df[\"Latitude\"],weather_df[\"Humidity\"],marker=\"o\")\n",
    "plt.ylabel(\"Humidity\")\n",
    "plt.xlabel(\"Latitude\")\n",
    "plt.title(\"City Latitude vs Humidity 8/7/2020\")\n",
    "plt.grid(True)\n",
    "plt.show()\n",
    "plt.savefig('../output_data/lat_humidity')\n",
    "#humidity seems regular accross the different latitudes. "
   ]
  },
  {
   "cell_type": "markdown",
   "metadata": {},
   "source": [
    "## Latitude vs. Cloudiness Plot"
   ]
  },
  {
   "cell_type": "code",
   "execution_count": 16,
   "metadata": {},
   "outputs": [
    {
     "data": {
      "image/png": "[encoded data removed]",
      "text/plain": [
       "<Figure size 432x288 with 1 Axes>"
      ]
     },
     "metadata": {
      "needs_background": "light"
     },
     "output_type": "display_data"
    },
    {
     "data": {
      "text/plain": [
       "<Figure size 432x288 with 0 Axes>"
      ]
     },
     "metadata": {},
     "output_type": "display_data"
    }
   ],
   "source": [
    "plt.scatter(weather_df[\"Latitude\"],weather_df[\"Clouds\"],marker=\"o\")\n",
    "plt.ylabel(\"Clouds\")\n",
    "plt.xlabel(\"Latitude\")\n",
    "plt.title(\"City Latitude vs Cloudiness 8/7/2020\")\n",
    "plt.grid(True)\n",
    "plt.show()\n",
    "plt.savefig('../output_data/lat_cloud.png')\n",
    "#no clear correlations can be seen here between cloudiness and lattitude"
   ]
  },
  {
   "cell_type": "markdown",
   "metadata": {},
   "source": [
    "## Latitude vs. Wind Speed Plot"
   ]
  },
  {
   "cell_type": "code",
   "execution_count": 17,
   "metadata": {},
   "outputs": [
    {
     "data": {
      "image/png": "[encoded data removed]",
      "text/plain": [
       "<Figure size 432x288 with 1 Axes>"
      ]
     },
     "metadata": {
      "needs_background": "light"
     },
     "output_type": "display_data"
    },
    {
     "data": {
      "text/plain": [
       "<Figure size 432x288 with 0 Axes>"
      ]
     },
     "metadata": {},
     "output_type": "display_data"
    }
   ],
   "source": [
    "plt.scatter(weather_df[\"Latitude\"],weather_df[\"Wind Speed\"],marker=\"o\")\n",
    "plt.ylabel(\"Wind Speed\")\n",
    "plt.xlabel(\"Latitude\")\n",
    "plt.title(\"City Latitude vs Wind Speed 8/7/2020\")\n",
    "plt.grid(True)\n",
    "plt.show()\n",
    "plt.savefig('../output_data/lat_wind.png')\n",
    "#slight increase of wind speed as we move away for the equator "
   ]
  },
  {
   "cell_type": "markdown",
   "metadata": {},
   "source": [
    "## Linear Regression"
   ]
  },
  {
   "cell_type": "code",
   "execution_count": 18,
   "metadata": {},
   "outputs": [],
   "source": [
    "# # OPTIONAL: Create a function to create Linear Regression plots\n",
    "# (slope, intercept, rvalue, pvalue, stderr) = stats.linregress(x_values, y_values)\n",
    "\n",
    "# # Get regression values\n",
    "# regress_values = x_values * slope + intercept\n",
    "# print(regress_values)"
   ]
  },
  {
   "cell_type": "code",
   "execution_count": 19,
   "metadata": {},
   "outputs": [
    {
     "data": {
      "text/html": [
       "<div>\n",
       "<style scoped>\n",
       "    .dataframe tbody tr th:only-of-type {\n",
       "        vertical-align: middle;\n",
       "    }\n",
       "\n",
       "    .dataframe tbody tr th {\n",
       "        vertical-align: top;\n",
       "    }\n",
       "\n",
       "    .dataframe thead th {\n",
       "        text-align: right;\n",
       "    }\n",
       "</style>\n",
       "<table border=\"1\" class=\"dataframe\">\n",
       "  <thead>\n",
       "    <tr style=\"text-align: right;\">\n",
       "      <th></th>\n",
       "      <th>City</th>\n",
       "      <th>Latitude</th>\n",
       "      <th>Longitude</th>\n",
       "      <th>Maximum Temp</th>\n",
       "      <th>Humidity</th>\n",
       "      <th>Clouds</th>\n",
       "      <th>Wind Speed</th>\n",
       "      <th>Country</th>\n",
       "      <th>Date</th>\n",
       "    </tr>\n",
       "  </thead>\n",
       "  <tbody>\n",
       "    <tr>\n",
       "      <th>0</th>\n",
       "      <td>sioux lookout</td>\n",
       "      <td>50.10</td>\n",
       "      <td>-91.92</td>\n",
       "      <td>69.80</td>\n",
       "      <td>49</td>\n",
       "      <td>40</td>\n",
       "      <td>10.29</td>\n",
       "      <td>CA</td>\n",
       "      <td>1597077060</td>\n",
       "    </tr>\n",
       "    <tr>\n",
       "      <th>1</th>\n",
       "      <td>asfi</td>\n",
       "      <td>32.30</td>\n",
       "      <td>-9.24</td>\n",
       "      <td>73.63</td>\n",
       "      <td>74</td>\n",
       "      <td>48</td>\n",
       "      <td>20.54</td>\n",
       "      <td>MA</td>\n",
       "      <td>1597077158</td>\n",
       "    </tr>\n",
       "    <tr>\n",
       "      <th>2</th>\n",
       "      <td>tateyama</td>\n",
       "      <td>34.98</td>\n",
       "      <td>139.87</td>\n",
       "      <td>84.00</td>\n",
       "      <td>89</td>\n",
       "      <td>5</td>\n",
       "      <td>4.00</td>\n",
       "      <td>JP</td>\n",
       "      <td>1597077158</td>\n",
       "    </tr>\n",
       "    <tr>\n",
       "      <th>3</th>\n",
       "      <td>vostok</td>\n",
       "      <td>46.49</td>\n",
       "      <td>135.88</td>\n",
       "      <td>60.40</td>\n",
       "      <td>100</td>\n",
       "      <td>83</td>\n",
       "      <td>3.69</td>\n",
       "      <td>RU</td>\n",
       "      <td>1597077158</td>\n",
       "    </tr>\n",
       "    <tr>\n",
       "      <th>6</th>\n",
       "      <td>ribeira grande</td>\n",
       "      <td>38.52</td>\n",
       "      <td>-28.70</td>\n",
       "      <td>77.00</td>\n",
       "      <td>57</td>\n",
       "      <td>20</td>\n",
       "      <td>18.34</td>\n",
       "      <td>PT</td>\n",
       "      <td>1597077158</td>\n",
       "    </tr>\n",
       "    <tr>\n",
       "      <th>...</th>\n",
       "      <td>...</td>\n",
       "      <td>...</td>\n",
       "      <td>...</td>\n",
       "      <td>...</td>\n",
       "      <td>...</td>\n",
       "      <td>...</td>\n",
       "      <td>...</td>\n",
       "      <td>...</td>\n",
       "      <td>...</td>\n",
       "    </tr>\n",
       "    <tr>\n",
       "      <th>566</th>\n",
       "      <td>yenagoa</td>\n",
       "      <td>4.92</td>\n",
       "      <td>6.26</td>\n",
       "      <td>79.21</td>\n",
       "      <td>71</td>\n",
       "      <td>100</td>\n",
       "      <td>9.13</td>\n",
       "      <td>NG</td>\n",
       "      <td>1597077192</td>\n",
       "    </tr>\n",
       "    <tr>\n",
       "      <th>568</th>\n",
       "      <td>chernyshevskiy</td>\n",
       "      <td>63.01</td>\n",
       "      <td>112.47</td>\n",
       "      <td>55.42</td>\n",
       "      <td>66</td>\n",
       "      <td>22</td>\n",
       "      <td>7.07</td>\n",
       "      <td>RU</td>\n",
       "      <td>1597077192</td>\n",
       "    </tr>\n",
       "    <tr>\n",
       "      <th>569</th>\n",
       "      <td>okha</td>\n",
       "      <td>53.57</td>\n",
       "      <td>142.95</td>\n",
       "      <td>55.69</td>\n",
       "      <td>95</td>\n",
       "      <td>100</td>\n",
       "      <td>18.21</td>\n",
       "      <td>RU</td>\n",
       "      <td>1597077193</td>\n",
       "    </tr>\n",
       "    <tr>\n",
       "      <th>570</th>\n",
       "      <td>vila</td>\n",
       "      <td>42.03</td>\n",
       "      <td>-8.16</td>\n",
       "      <td>84.00</td>\n",
       "      <td>54</td>\n",
       "      <td>100</td>\n",
       "      <td>5.99</td>\n",
       "      <td>PT</td>\n",
       "      <td>1597077193</td>\n",
       "    </tr>\n",
       "    <tr>\n",
       "      <th>571</th>\n",
       "      <td>taunggyi</td>\n",
       "      <td>20.78</td>\n",
       "      <td>97.03</td>\n",
       "      <td>65.08</td>\n",
       "      <td>100</td>\n",
       "      <td>100</td>\n",
       "      <td>3.89</td>\n",
       "      <td>MM</td>\n",
       "      <td>1597077193</td>\n",
       "    </tr>\n",
       "  </tbody>\n",
       "</table>\n",
       "<p>393 rows × 9 columns</p>\n",
       "</div>"
      ],
      "text/plain": [
       "               City  Latitude  Longitude  Maximum Temp  Humidity  Clouds  \\\n",
       "0     sioux lookout     50.10     -91.92         69.80        49      40   \n",
       "1              asfi     32.30      -9.24         73.63        74      48   \n",
       "2          tateyama     34.98     139.87         84.00        89       5   \n",
       "3            vostok     46.49     135.88         60.40       100      83   \n",
       "6    ribeira grande     38.52     -28.70         77.00        57      20   \n",
       "..              ...       ...        ...           ...       ...     ...   \n",
       "566         yenagoa      4.92       6.26         79.21        71     100   \n",
       "568  chernyshevskiy     63.01     112.47         55.42        66      22   \n",
       "569            okha     53.57     142.95         55.69        95     100   \n",
       "570            vila     42.03      -8.16         84.00        54     100   \n",
       "571        taunggyi     20.78      97.03         65.08       100     100   \n",
       "\n",
       "     Wind Speed Country        Date  \n",
       "0         10.29      CA  1597077060  \n",
       "1         20.54      MA  1597077158  \n",
       "2          4.00      JP  1597077158  \n",
       "3          3.69      RU  1597077158  \n",
       "6         18.34      PT  1597077158  \n",
       "..          ...     ...         ...  \n",
       "566        9.13      NG  1597077192  \n",
       "568        7.07      RU  1597077192  \n",
       "569       18.21      RU  1597077193  \n",
       "570        5.99      PT  1597077193  \n",
       "571        3.89      MM  1597077193  \n",
       "\n",
       "[393 rows x 9 columns]"
      ]
     },
     "execution_count": 19,
     "metadata": {},
     "output_type": "execute_result"
    }
   ],
   "source": [
    "# Create Northern and Southern Hemisphere DataFrames\n",
    "\n",
    "#Northern Hemisphere (greater than or equal to 0 degrees latitude)\n",
    "northern=weather_df.loc[weather_df[\"Latitude\"]>0]\n",
    "\n",
    "#Southern Hemisphere (less than 0 degrees latitude):\n",
    "southern=weather_df.loc[weather_df[\"Latitude\"]<0]\n",
    "\n",
    "northern\n"
   ]
  },
  {
   "cell_type": "markdown",
   "metadata": {},
   "source": [
    "####  Northern Hemisphere - Max Temp vs. Latitude Linear Regression"
   ]
  },
  {
   "cell_type": "code",
   "execution_count": 20,
   "metadata": {},
   "outputs": [
    {
     "name": "stdout",
     "output_type": "stream",
     "text": [
      "0      66.138372\n",
      "1      76.211440\n",
      "2      74.694821\n",
      "3      68.181281\n",
      "6      72.691525\n",
      "         ...    \n",
      "566    91.705855\n",
      "568    58.832569\n",
      "569    64.174690\n",
      "570    70.705207\n",
      "571    82.730638\n",
      "Name: Latitude, Length: 393, dtype: float64\n",
      "y = -0.57x +94.49\n",
      "The r-value is: 0.5179478383006547\n"
     ]
    },
    {
     "data": {
      "image/png": "[encoded data removed]",
      "text/plain": [
       "<Figure size 432x288 with 1 Axes>"
      ]
     },
     "metadata": {
      "needs_background": "light"
     },
     "output_type": "display_data"
    },
    {
     "data": {
      "text/plain": [
       "<Figure size 432x288 with 0 Axes>"
      ]
     },
     "metadata": {},
     "output_type": "display_data"
    }
   ],
   "source": [
    "# x_values=northern[\"Latitude\"]\n",
    "# y_values=northern[\"Maximum Temp\"]\n",
    "\n",
    "(slope, intercept, rvalue, pvalue, stderr) = stats.linregress(northern['Latitude'],northern[\"Maximum Temp\"])\n",
    "\n",
    "# Get regression values\n",
    "regress_values = northern['Latitude'] * slope + intercept\n",
    "print(regress_values)\n",
    "\n",
    "# Create line equation string\n",
    "line_eq = \"y = \" + str(round(slope,2)) + \"x +\" + str(round(intercept,2))\n",
    "print(line_eq)\n",
    "\n",
    "# Create Plot\n",
    "plt.scatter(northern['Latitude'],northern[\"Maximum Temp\"])\n",
    "plt.plot(northern['Latitude'],regress_values,\"r-\")\n",
    "\n",
    "# Label plot and annotate the line equation\n",
    "plt.xlabel('Latitude')\n",
    "plt.ylabel('Maximum Temp')\n",
    "plt.title(' Northern Hemisphere - Max Temp vs. Max. Temperature Linear Regression')\n",
    "plt.annotate(line_eq,(40,90),fontsize=15,color=\"red\")\n",
    "\n",
    "# Print r value\n",
    "print(f\"The r-value is: {rvalue**2}\")\n",
    "\n",
    "# Show plot\n",
    "plt.show()\n",
    "plt.savefig('../output_data/north_linreg_temp_lat.png')"
   ]
  },
  {
   "cell_type": "markdown",
   "metadata": {},
   "source": [
    "####  Southern Hemisphere - Max Temp vs. Latitude Linear Regression"
   ]
  },
  {
   "cell_type": "code",
   "execution_count": 21,
   "metadata": {},
   "outputs": [
    {
     "name": "stdout",
     "output_type": "stream",
     "text": [
      "4      65.228984\n",
      "5      48.739021\n",
      "9      38.818659\n",
      "12     66.917556\n",
      "13     55.018399\n",
      "         ...    \n",
      "551    73.029835\n",
      "558    70.945504\n",
      "560    56.786123\n",
      "561    75.703408\n",
      "567    60.391928\n",
      "Name: Latitude, Length: 179, dtype: float64\n",
      "y = 0.88x +85.56\n",
      "The r-value is: 0.677446600323009\n"
     ]
    },
    {
     "data": {
      "image/png": "[encoded data removed]",
      "text/plain": [
       "<Figure size 432x288 with 1 Axes>"
      ]
     },
     "metadata": {
      "needs_background": "light"
     },
     "output_type": "display_data"
    },
    {
     "data": {
      "text/plain": [
       "<Figure size 432x288 with 0 Axes>"
      ]
     },
     "metadata": {},
     "output_type": "display_data"
    }
   ],
   "source": [
    "# x_values=southern[\"Latitude\"]\n",
    "# y_values=southern[\"Maximum Temp\"]\n",
    "\n",
    "\n",
    "(slope, intercept, rvalue, pvalue, stderr) = stats.linregress(southern['Latitude'],southern[\"Maximum Temp\"])\n",
    "\n",
    "# Get regression values\n",
    "regress_values = southern['Latitude'] * slope + intercept\n",
    "print(regress_values)\n",
    "\n",
    "# Create line equation string\n",
    "line_eq = \"y = \" + str(round(slope,2)) + \"x +\" + str(round(intercept,2))\n",
    "print(line_eq)\n",
    "\n",
    "# Create Plot\n",
    "plt.scatter(southern['Latitude'],southern[\"Maximum Temp\"])\n",
    "plt.plot(southern['Latitude'],regress_values,\"r-\")\n",
    "\n",
    "# Label plot and annotate the line equation\n",
    "plt.xlabel('Latitude')\n",
    "plt.ylabel('Maximum Temp')\n",
    "plt.title(' Southern Hemisphere - Max Temp vs. Max. Temperature Linear Regression')\n",
    "plt.annotate(line_eq,(-30,35),fontsize=15,color=\"red\")\n",
    "\n",
    "# Print r value\n",
    "print(f\"The r-value is: {rvalue**2}\")\n",
    "\n",
    "# Show plot\n",
    "plt.show()\n",
    "plt.savefig('../output_data/south_linreg_temp_lat.png')"
   ]
  },
  {
   "cell_type": "code",
   "execution_count": 22,
   "metadata": {},
   "outputs": [],
   "source": [
    "#The farther away from the equator in the northern and southern hemisphere, one can predict the temperature will drop"
   ]
  },
  {
   "cell_type": "markdown",
   "metadata": {},
   "source": [
    "####  Northern Hemisphere - Humidity (%) vs. Latitude Linear Regression"
   ]
  },
  {
   "cell_type": "code",
   "execution_count": 23,
   "metadata": {},
   "outputs": [
    {
     "name": "stdout",
     "output_type": "stream",
     "text": [
      "0      70.638992\n",
      "1      69.257461\n",
      "2      69.465467\n",
      "3      70.358805\n",
      "6      69.740221\n",
      "         ...    \n",
      "566    67.132387\n",
      "568    71.640990\n",
      "569    70.908313\n",
      "570    70.012646\n",
      "571    68.363346\n",
      "Name: Latitude, Length: 393, dtype: float64\n",
      "The r-value is: 0.004948272099754582\n"
     ]
    },
    {
     "data": {
      "image/png": "[encoded data removed]",
      "text/plain": [
       "<Figure size 432x288 with 1 Axes>"
      ]
     },
     "metadata": {
      "needs_background": "light"
     },
     "output_type": "display_data"
    },
    {
     "data": {
      "text/plain": [
       "<Figure size 432x288 with 0 Axes>"
      ]
     },
     "metadata": {},
     "output_type": "display_data"
    }
   ],
   "source": [
    "# x_values=northern[\"Latitude\"]\n",
    "# y_values=northern[\"Humidity\"]\n",
    "\n",
    "(slope, intercept, rvalue, pvalue, stderr) = stats.linregress(northern['Latitude'],northern[\"Humidity\"])\n",
    "\n",
    "# Get regression values\n",
    "regress_values = northern['Latitude'] * slope + intercept\n",
    "print(regress_values)\n",
    "\n",
    "# Create line equation string\n",
    "line_eq = \"y = \" + str(round(slope,2)) + \"x +\" + str(round(intercept,2))\n",
    "\n",
    "# Create Plot\n",
    "plt.scatter(northern['Latitude'],northern[\"Humidity\"])\n",
    "plt.plot(northern['Latitude'],regress_values,\"r-\")\n",
    "\n",
    "# Label plot and annotate the line equation\n",
    "plt.xlabel('Latitude')\n",
    "plt.ylabel('Humidity')\n",
    "plt.title(' Northern Hemisphere - Max Temp vs. Humidity Linear Regression')\n",
    "plt.annotate(line_eq,(20,15),fontsize=15,color=\"red\")\n",
    "\n",
    "# Print r value\n",
    "print(f\"The r-value is: {rvalue**2}\")\n",
    "\n",
    "# Show plot\n",
    "plt.show()\n",
    "plt.savefig('../output_data/north_linreg_humidity_lat.png')"
   ]
  },
  {
   "cell_type": "markdown",
   "metadata": {},
   "source": [
    "####  Southern Hemisphere - Humidity (%) vs. Latitude Linear Regression"
   ]
  },
  {
   "cell_type": "code",
   "execution_count": 24,
   "metadata": {},
   "outputs": [
    {
     "name": "stdout",
     "output_type": "stream",
     "text": [
      "4      66.727673\n",
      "5      69.872833\n",
      "9      71.764960\n",
      "12     66.405609\n",
      "13     68.675156\n",
      "         ...    \n",
      "551    65.239803\n",
      "558    65.637351\n",
      "560    68.337995\n",
      "561    64.729868\n",
      "567    67.650253\n",
      "Name: Latitude, Length: 179, dtype: float64\n",
      "The r-value is: 0.011800744098093188\n"
     ]
    },
    {
     "data": {
      "image/png": "[encoded data removed]",
      "text/plain": [
       "<Figure size 432x288 with 1 Axes>"
      ]
     },
     "metadata": {
      "needs_background": "light"
     },
     "output_type": "display_data"
    },
    {
     "data": {
      "text/plain": [
       "<Figure size 432x288 with 0 Axes>"
      ]
     },
     "metadata": {},
     "output_type": "display_data"
    }
   ],
   "source": [
    "# x_values=southern[\"Latitude\"]\n",
    "# y_values=southern[\"Humidity\"]\n",
    "\n",
    "(slope, intercept, rvalue, pvalue, stderr) = stats.linregress(southern['Latitude'],southern[\"Humidity\"])\n",
    "\n",
    "\n",
    "# Get regression values\n",
    "regress_values = southern['Latitude'] * slope + intercept\n",
    "print(regress_values)\n",
    "\n",
    "# Create line equation string\n",
    "line_eq = \"y = \" + str(round(slope,2)) + \"x +\" + str(round(intercept,2))\n",
    "\n",
    "# Create Plot\n",
    "plt.scatter(southern['Latitude'],southern[\"Humidity\"])\n",
    "plt.plot(southern['Latitude'],regress_values,\"r-\")\n",
    "\n",
    "# Label plot and annotate the line equation\n",
    "plt.xlabel('Latitude')\n",
    "plt.ylabel('Humidity')\n",
    "plt.title(' Southern Hemisphere - Max Temp vs. Humidity Linear Regression')\n",
    "plt.annotate(line_eq,(-25,10),fontsize=15,color=\"red\")\n",
    "\n",
    "# Print r value\n",
    "print(f\"The r-value is: {rvalue**2}\")\n",
    "\n",
    "# Show plot\n",
    "plt.show()\n",
    "plt.savefig('../output_data/south_linreg_humidity_lat.png')"
   ]
  },
  {
   "cell_type": "code",
   "execution_count": 25,
   "metadata": {},
   "outputs": [],
   "source": [
    "#no correlation between lattitude and humidity can be deduced both in the northern and southern hemisphere"
   ]
  },
  {
   "cell_type": "markdown",
   "metadata": {},
   "source": [
    "####  Northern Hemisphere - Cloudiness (%) vs. Latitude Linear Regression"
   ]
  },
  {
   "cell_type": "code",
   "execution_count": 26,
   "metadata": {},
   "outputs": [
    {
     "name": "stdout",
     "output_type": "stream",
     "text": [
      "0      51.425240\n",
      "1      52.776002\n",
      "2      52.572629\n",
      "3      51.699187\n",
      "6      52.303995\n",
      "         ...    \n",
      "566    54.853747\n",
      "568    50.445559\n",
      "569    51.161918\n",
      "570    52.037636\n",
      "571    53.650203\n",
      "Name: Latitude, Length: 393, dtype: float64\n",
      "The r-value is: 0.0016440876553631917\n"
     ]
    },
    {
     "data": {
      "image/png": "[encoded data removed]",
      "text/plain": [
       "<Figure size 432x288 with 1 Axes>"
      ]
     },
     "metadata": {
      "needs_background": "light"
     },
     "output_type": "display_data"
    },
    {
     "data": {
      "text/plain": [
       "<Figure size 432x288 with 0 Axes>"
      ]
     },
     "metadata": {},
     "output_type": "display_data"
    }
   ],
   "source": [
    "# x_values=northern[\"Latitude\"]\n",
    "# y_values=northern[\"Cloud\"]\n",
    "\n",
    "(slope, intercept, rvalue, pvalue, stderr) = stats.linregress(northern['Latitude'],northern[\"Clouds\"])\n",
    "\n",
    "# Get regression values\n",
    "regress_values = northern['Latitude'] * slope + intercept\n",
    "print(regress_values)\n",
    "\n",
    "# Create line equation string\n",
    "line_eq = \"y = \" + str(round(slope,2)) + \"x +\" + str(round(intercept,2))\n",
    "\n",
    "# Create Plot\n",
    "plt.scatter(northern['Latitude'],northern[\"Clouds\"])\n",
    "plt.plot(northern['Latitude'],regress_values,\"r-\")\n",
    "\n",
    "# Label plot and annotate the line equation\n",
    "plt.xlabel('Latitude')\n",
    "plt.ylabel('Cloudiness')\n",
    "plt.title(' Northern Hemisphere - Max Temp vs. Cloudiness Linear Regression')\n",
    "plt.annotate(line_eq,(20,15),fontsize=15,color=\"red\")\n",
    "\n",
    "# Print r value\n",
    "print(f\"The r-value is: {rvalue**2}\")\n",
    "\n",
    "# Show plot\n",
    "plt.show()\n",
    "plt.savefig('../output_data/north_linreg_cloud_lat.png')"
   ]
  },
  {
   "cell_type": "markdown",
   "metadata": {},
   "source": [
    "####  Southern Hemisphere - Cloudiness (%) vs. Latitude Linear Regression"
   ]
  },
  {
   "cell_type": "code",
   "execution_count": 31,
   "metadata": {},
   "outputs": [
    {
     "name": "stdout",
     "output_type": "stream",
     "text": [
      "4      38.928410\n",
      "5      38.861440\n",
      "9      38.821151\n",
      "12     38.935268\n",
      "13     38.886943\n",
      "         ...    \n",
      "551    38.960092\n",
      "558    38.951627\n",
      "560    38.894122\n",
      "561    38.970950\n",
      "567    38.908766\n",
      "Name: Latitude, Length: 179, dtype: float64\n",
      "The r-value is: 1.949787740913705e-06\n"
     ]
    },
    {
     "data": {
      "image/png": "[encoded data removed]",
      "text/plain": [
       "<Figure size 432x288 with 1 Axes>"
      ]
     },
     "metadata": {
      "needs_background": "light"
     },
     "output_type": "display_data"
    },
    {
     "data": {
      "text/plain": [
       "<Figure size 432x288 with 0 Axes>"
      ]
     },
     "metadata": {},
     "output_type": "display_data"
    }
   ],
   "source": [
    "# x_values=southern[\"Latitude\"]\n",
    "# y_values=southern[\"Cloud\"]\n",
    "\n",
    "(slope, intercept, rvalue, pvalue, stderr) = stats.linregress(southern['Latitude'],southern[\"Clouds\"])\n",
    "\n",
    "# Get regression values\n",
    "regress_values = southern['Latitude'] * slope + intercept\n",
    "print(regress_values)\n",
    "\n",
    "# Create line equation string\n",
    "line_eq = \"y = \" + str(round(slope,2)) + \"x +\" + str(round(intercept,2))\n",
    "\n",
    "# Create Plot\n",
    "plt.scatter(southern['Latitude'],southern[\"Clouds\"])\n",
    "plt.plot(southern['Latitude'],regress_values,\"r-\")\n",
    "\n",
    "# Label plot and annotate the line equation\n",
    "plt.xlabel('Latitude')\n",
    "plt.ylabel('Cloudiness')\n",
    "plt.title(' Southern Hemisphere - Max Temp vs. Cloudiness Linear Regression')\n",
    "plt.annotate(line_eq,(-55,20),fontsize=15,color=\"red\")\n",
    "\n",
    "# Print r value\n",
    "print(f\"The r-value is: {rvalue**2}\")\n",
    "\n",
    "# Show plot\n",
    "plt.show()\n",
    "plt.savefig('../output_data/south_linreg_cloud_lat.png')"
   ]
  },
  {
   "cell_type": "markdown",
   "metadata": {},
   "source": [
    "####  Northern Hemisphere - Wind Speed (mph) vs. Latitude Linear Regression"
   ]
  },
  {
   "cell_type": "code",
   "execution_count": 28,
   "metadata": {},
   "outputs": [
    {
     "name": "stdout",
     "output_type": "stream",
     "text": [
      "0      8.075589\n",
      "1      8.267235\n",
      "2      8.238380\n",
      "3      8.114456\n",
      "6      8.200266\n",
      "         ...   \n",
      "566    8.562025\n",
      "568    7.936592\n",
      "569    8.038229\n",
      "570    8.162476\n",
      "571    8.391266\n",
      "Name: Latitude, Length: 393, dtype: float64\n",
      "The r-value is: 0.0012829898225660385\n"
     ]
    },
    {
     "data": {
      "image/png": "[encoded data removed]",
      "text/plain": [
       "<Figure size 432x288 with 1 Axes>"
      ]
     },
     "metadata": {
      "needs_background": "light"
     },
     "output_type": "display_data"
    },
    {
     "data": {
      "text/plain": [
       "<Figure size 432x288 with 0 Axes>"
      ]
     },
     "metadata": {},
     "output_type": "display_data"
    }
   ],
   "source": [
    "# x_values=northern[\"Latitude\"]\n",
    "# y_values=northern[\"Wind Speed\"]\n",
    "\n",
    "(slope, intercept, rvalue, pvalue, stderr) = stats.linregress(northern['Latitude'],northern[\"Wind Speed\"])\n",
    "\n",
    "# Get regression values\n",
    "regress_values = northern['Latitude'] * slope + intercept\n",
    "print(regress_values)\n",
    "\n",
    "# Create line equation string\n",
    "line_eq = \"y = \" + str(round(slope,2)) + \"x +\" + str(round(intercept,2))\n",
    "\n",
    "# Create Plot\n",
    "plt.scatter(northern['Latitude'],northern[\"Wind Speed\"])\n",
    "plt.plot(northern['Latitude'],regress_values,\"r-\")\n",
    "\n",
    "# Label plot and annotate the line equation\n",
    "plt.xlabel('Latitude')\n",
    "plt.ylabel('Wind Speed')\n",
    "plt.title(' Northern Hemisphere - Max Temp vs. Wind Speed Linear Regression')\n",
    "plt.annotate(line_eq,(20,15),fontsize=15,color=\"red\")\n",
    "\n",
    "# Print r value\n",
    "print(f\"The r-value is: {rvalue**2}\")\n",
    "\n",
    "# Show plot\n",
    "plt.show()\n",
    "plt.savefig('../output_data/north_linreg_wind_lat.png')"
   ]
  },
  {
   "cell_type": "code",
   "execution_count": null,
   "metadata": {},
   "outputs": [],
   "source": [
    "#based on this above and below charts, we can deduce that there isn't a clear and direct correlation between lattitude and Wind Speed in the northern or southern hemisphere. "
   ]
  },
  {
   "cell_type": "markdown",
   "metadata": {},
   "source": [
    "####  Southern Hemisphere - Wind Speed (mph) vs. Latitude Linear Regression"
   ]
  },
  {
   "cell_type": "code",
   "execution_count": 29,
   "metadata": {},
   "outputs": [
    {
     "name": "stdout",
     "output_type": "stream",
     "text": [
      "4       8.569437\n",
      "5      10.231836\n",
      "9      11.231936\n",
      "12      8.399207\n",
      "13      9.598795\n",
      "         ...    \n",
      "551     7.783011\n",
      "558     7.993138\n",
      "560     9.420585\n",
      "561     7.513481\n",
      "567     9.057074\n",
      "Name: Latitude, Length: 179, dtype: float64\n",
      "The r-value is: 0.047695508596921794\n"
     ]
    },
    {
     "data": {
      "image/png": "[encoded data removed]",
      "text/plain": [
       "<Figure size 432x288 with 1 Axes>"
      ]
     },
     "metadata": {
      "needs_background": "light"
     },
     "output_type": "display_data"
    },
    {
     "data": {
      "text/plain": [
       "<Figure size 432x288 with 0 Axes>"
      ]
     },
     "metadata": {},
     "output_type": "display_data"
    }
   ],
   "source": [
    "# x_values=southern[\"Latitude\"]\n",
    "# y_values=southern[\"Cloud\"]\n",
    "\n",
    "(slope, intercept, rvalue, pvalue, stderr) = stats.linregress(southern['Latitude'],southern[\"Wind Speed\"])\n",
    "\n",
    "# Get regression values\n",
    "regress_values = southern['Latitude'] * slope + intercept\n",
    "print(regress_values)\n",
    "\n",
    "# Create line equation string\n",
    "line_eq = \"y = \" + str(round(slope,2)) + \"x +\" + str(round(intercept,2))\n",
    "\n",
    "# Create Plot\n",
    "plt.scatter(southern['Latitude'],southern[\"Wind Speed\"])\n",
    "plt.plot(southern['Latitude'],regress_values,\"r-\")\n",
    "\n",
    "# Label plot and annotate the line equation\n",
    "plt.xlabel('Latitude')\n",
    "plt.ylabel('Wind Speed')\n",
    "plt.title(' Southern Hemisphere - Max Temp vs. Wind Speed Linear Regression')\n",
    "plt.annotate(line_eq,(-50,20),fontsize=15,color=\"red\")\n",
    "\n",
    "# Print r value\n",
    "print(f\"The r-value is: {rvalue**2}\")\n",
    "\n",
    "# Show plot\n",
    "plt.show()\n",
    "plt.savefig('../output_data/north_linreg_wind_lat.png')"
   ]
  },
  {
   "cell_type": "code",
   "execution_count": null,
   "metadata": {},
   "outputs": [],
   "source": [
    "Using Citypi module, we were able to randomly celect over 500 cities based on random latitude and longitude coordinates. From there, we were able to examine the correlation between latitude and weather, particularly temperature, humidity, clowdiness, and wind speed.  \n",
    "As could be expected, we found that the closer you get to the equator, the warmer the temperature. Alhough there is a moderate correlation between temperature and lattiude, our data does not account for other factors such as seasons.\n",
    "We were not able to find any signification correlation beween latitude and humidity, cloudiness, and wind speed. "
   ]
  },
  {
   "cell_type": "code",
   "execution_count": null,
   "metadata": {},
   "outputs": [],
   "source": []
  },
  {
   "cell_type": "code",
   "execution_count": null,
   "metadata": {},
   "outputs": [],
   "source": []
  }
 ],
 "metadata": {
  "anaconda-cloud": {},
  "kernel_info": {
   "name": "python3"
  },
  "kernelspec": {
   "display_name": "Python 3",
   "language": "python",
   "name": "python3"
  },
  "language_info": {
   "codemirror_mode": {
    "name": "ipython",
    "version": 3
   },
   "file_extension": ".py",
   "mimetype": "text/x-python",
   "name": "python",
   "nbconvert_exporter": "python",
   "pygments_lexer": "ipython3",
   "version": "3.7.6"
  },
  "latex_envs": {
   "LaTeX_envs_menu_present": true,
   "autoclose": false,
   "autocomplete": true,
   "bibliofile": "biblio.bib",
   "cite_by": "apalike",
   "current_citInitial": 1,
   "eqLabelWithNumbers": true,
   "eqNumInitial": 1,
   "hotkeys": {
    "equation": "Ctrl-E",
    "itemize": "Ctrl-I"
   },
   "labels_anchors": false,
   "latex_user_defs": false,
   "report_style_numbering": false,
   "user_envs_cfg": false
  },
  "nteract": {
   "version": "0.12.3"
  }
 },
 "nbformat": 4,
 "nbformat_minor": 2
}
